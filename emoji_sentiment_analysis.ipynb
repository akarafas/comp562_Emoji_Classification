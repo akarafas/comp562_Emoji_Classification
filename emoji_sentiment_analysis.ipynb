{
 "cells": [
  {
   "cell_type": "markdown",
   "metadata": {},
   "source": [
    "# Emoji Sentiment Analysis\n",
    "## Angel Karafas, Dana Rubin, and Emily Stahle"
   ]
  },
  {
   "cell_type": "code",
   "execution_count": 11,
   "metadata": {},
   "outputs": [
    {
     "name": "stderr",
     "output_type": "stream",
     "text": [
      "[nltk_data] Downloading package stopwords to\n",
      "[nltk_data]     C:\\Users\\akarafas\\AppData\\Roaming\\nltk_data...\n",
      "[nltk_data]   Package stopwords is already up-to-date!\n"
     ]
    }
   ],
   "source": [
    "import matplotlib.pyplot as plt\n",
    "import numpy as np\n",
    "import nltk                               \n",
    "import preprocessor as p\n",
    "import string\n",
    "nltk.download('stopwords')\n",
    "from nltk.corpus import stopwords          \n",
    "from nltk.stem import PorterStemmer        \n",
    "from nltk.tokenize import TweetTokenizer"
   ]
  },
  {
   "cell_type": "markdown",
   "metadata": {},
   "source": [
    "# Data Preparation"
   ]
  },
  {
   "cell_type": "code",
   "execution_count": 12,
   "metadata": {},
   "outputs": [
    {
     "name": "stdout",
     "output_type": "stream",
     "text": [
      "Squad arriving for Game 2 🚀\n",
      "\n",
      "Dude is like 5’8 140 pounds his dick was long and strong(always the little dudes carrying the 🍆) 🤪🙃\n",
      "\n",
      "FOLLOWERS👇\n",
      "\n",
      "I CANT BREATIUHW 💀💀💀\n",
      "\n",
      "2️⃣4️⃣ hours 'til our schedule drops!\n",
      "\n"
     ]
    }
   ],
   "source": [
    "tweetFile = open(\"emojitweets-01-04-2018.txt\", encoding=\"utf8\")\n",
    "number_of_lines = 5\n",
    "for i in range(number_of_lines):\n",
    "    line = tweetFile.readline()\n",
    "    print(line)"
   ]
  },
  {
   "cell_type": "markdown",
   "metadata": {},
   "source": [
    "## Define Positive and Negative Emojis"
   ]
  },
  {
   "cell_type": "code",
   "execution_count": 13,
   "metadata": {},
   "outputs": [
    {
     "name": "stdout",
     "output_type": "stream",
     "text": [
      "['🤐', '😟', '😩', '🙃', '😒', '😤', '😫', '👎', '🤔', '😅', '😓', '😭', '🤧', '😈', '🙁', '😪', '😴', '☠️', '💀', '💩', '🙀', '😱', '🙄', '😡', '👊', '😾', '😣', '😔', '😮', '😶', '😐', '🤢', '😷', '🤥', '👿', '😯', '😬', '👻', '🖕', '☹️', '😦', '😳', '😨', '🤒', '🤕', '😑', '😵', '😥', '😞', '😿', '😢', '😕', '😖', '😰']\n",
      "['😋', '💛', '😉', '✌️', '💕', '👍', '😎', '😜', '😝', '😛', '💖', '😼', '😏', '😺', '😃', '😸', '😄', '🙂', '🤣', '💞', '😌', '🙌', '💜', '🙏', '👌', '🤓', '🤑', '👄', '😆', '😙', '😘', '😚', '😽', '😗', '💋', '😹', '😂', '😇', '🤗', '💗', '💓', '😻', '😍', '❤️', '🤝', '😀', '😁', '💚', '💝', '🤤', '💘', '🤞', '🤠', '👏', '😊', '💙', '🖤', '💯', '🤪']\n",
      "54\n",
      "59\n"
     ]
    }
   ],
   "source": [
    "negativeEmojis = ['🤐', '😟', '😩', '🙃', '😒', '😤', '😫', '👎', '🤔', '😅', '😓', '😭', '🤧', '😈', '🙁','😪', '😴', '☠️', '💀', '💩', '🙀', '😱', '🙄', '😡',\n",
    "'👊', '😾', '😣', '😔','😮', '😶', '😐', '🤢', '😷','🤥', '👿','😯', '😬', '👻', '🖕', '☹️', '😦', '😳', '😨', '🤒', '🤕', '😑', '😵', '😥', '😞', '😿', '😢','😕',\n",
    "'😖', '😰']\n",
    "positiveEmojis = ['😋', '💛', '😉', '✌️', '💕', '👍', '😎', '😜', '😝', '😛', '💖', '😼', '😏', '😺', '😃','😸', '😄', '🙂', '🤣', '💞', '😌', '🙌', '💜', '🙏', '👌', '🤓', '🤑','👄', '😆', '😙', '😘', '😚','😽', '😗', '💋', '😹', '😂', '😇', '🤗', '💗', '💓', '😻', '😍', '❤️', '🤝', '😀', '😁', '💚', '💝', '🤤','💘', '🤞', '🤠', '👏', '😊', '💙', '🖤', '💯', '🤪']\n",
    "print(negativeEmojis)\n",
    "print(positiveEmojis)\n",
    "print(len(negativeEmojis))\n",
    "print(len(positiveEmojis))"
   ]
  },
  {
   "cell_type": "markdown",
   "metadata": {},
   "source": [
    "## Reading in and Labeling Data "
   ]
  },
  {
   "cell_type": "code",
   "execution_count": 14,
   "metadata": {},
   "outputs": [
    {
     "name": "stdout",
     "output_type": "stream",
     "text": [
      "6451\n",
      "6451\n",
      "6451\n"
     ]
    }
   ],
   "source": [
    "# need to go through and add labels\n",
    "labeledTweetMatrix = []\n",
    "tweets_x = []\n",
    "tweets_y = []\n",
    "tweetFile = open(\"emojitweets-01-04-2018.txt\", encoding=\"utf8\")\n",
    "# for i in tweetFile:\n",
    "for i in range(10000):\n",
    "    line = tweetFile.readline()\n",
    "    if any(emoji in line for emoji in positiveEmojis):\n",
    "        labeledTweetMatrix.append([line.rstrip(\"\\n\"), 1])\n",
    "        tweets_x.append(line.rstrip(\"\\n\"))\n",
    "        tweets_y.append(1)\n",
    "    elif any(emoji in line for emoji in negativeEmojis):\n",
    "        # labelVector[i] = -1\n",
    "        labeledTweetMatrix.append([line.rstrip(\"\\n\"), 0])\n",
    "        tweets_x.append(line.rstrip(\"\\n\"))\n",
    "        tweets_y.append(0)\n",
    "    # this will assign all with a +1 emoji 1 and anything else (negative or 0 sentiment) -1\n",
    "print(len(labeledTweetMatrix))\n",
    "print(len(tweets_x))\n",
    "print(len(tweets_y))"
   ]
  },
  {
   "cell_type": "code",
   "execution_count": 15,
   "metadata": {},
   "outputs": [
    {
     "name": "stdout",
     "output_type": "stream",
     "text": [
      "Dude is like 5’8 140 pounds his dick was long and strong(always the little dudes carrying the 🍆) 🤪🙃\n",
      "1\n",
      "I CANT BREATIUHW 💀💀💀\n",
      "0\n",
      "I am SO scared of birds🤧\n",
      "0\n",
      "That’s me 😂😂😂😂😂😂\n",
      "1\n",
      "My heart is so full rn 💖💖\n",
      "1\n"
     ]
    }
   ],
   "source": [
    "# sample\n",
    "for i in range(5):\n",
    "    print(tweets_x[i])\n",
    "    print(tweets_y[i])"
   ]
  },
  {
   "cell_type": "markdown",
   "metadata": {},
   "source": [
    "## Analysis of Emojis and Data "
   ]
  },
  {
   "cell_type": "code",
   "execution_count": 16,
   "metadata": {},
   "outputs": [
    {
     "data": {
      "image/png": "[encoded data removed]",
      "text/plain": [
       "<Figure size 432x288 with 1 Axes>"
      ]
     },
     "metadata": {},
     "output_type": "display_data"
    }
   ],
   "source": [
    "%matplotlib inline\n",
    "labels = 'Positive', 'Negative'\n",
    "sizes = [len(positiveEmojis), len(negativeEmojis)]\n",
    "explode = (0, 0.1)\n",
    "fig1, ax1 = plt.subplots()\n",
    "colors = ['lightcoral', 'lightskyblue']\n",
    "ax1.pie(sizes, explode=explode, labels=labels, autopct='%1.1f%%', colors=colors,\n",
    "        shadow=True, startangle=90)\n",
    "ax1.axis('equal')\n",
    "plt.title('Comparison of positive and negative emojis in our library')\n",
    "plt.show()"
   ]
  },
  {
   "cell_type": "code",
   "execution_count": 17,
   "metadata": {},
   "outputs": [
    {
     "data": {
      "image/png": "[encoded data removed]",
      "text/plain": [
       "<Figure size 432x288 with 1 Axes>"
      ]
     },
     "metadata": {},
     "output_type": "display_data"
    }
   ],
   "source": [
    "labels = 'Positive', 'Negative'\n",
    "# go through labeledTweetMatrix and tally positive sentiment, neg just do len(total) - pos\n",
    "count = 0\n",
    "negativeCount = 0\n",
    "for tweet in labeledTweetMatrix:\n",
    "    if tweet[1] == 1:\n",
    "        count += 1\n",
    "    if tweet[1] == 0:\n",
    "        negativeCount += 1\n",
    "sizes = [count, negativeCount]\n",
    "explode = (0, 0.1)\n",
    "fig1, ax1 = plt.subplots()\n",
    "colors = ['lightcoral', 'lightskyblue']\n",
    "ax1.pie(sizes, explode=explode, labels=labels, autopct='%1.1f%%', colors=colors,\n",
    "        shadow=True, startangle=90)\n",
    "ax1.axis('equal')\n",
    "plt.title('Comparison of positive and negative sentiment tweets')\n",
    "plt.show()"
   ]
  },
  {
   "cell_type": "markdown",
   "metadata": {},
   "source": [
    "## Preprocessing Data"
   ]
  },
  {
   "cell_type": "code",
   "execution_count": 18,
   "metadata": {},
   "outputs": [],
   "source": [
    "def tokenize(tweet):\n",
    "    tokenizer = TweetTokenizer(preserve_case=False, strip_handles=True, reduce_len=True)\n",
    "    tweet_tokens = tokenizer.tokenize(tweet)\n",
    "    return tweet_tokens\n",
    "def removeStopWords(tweet_tokenz):\n",
    "    stopwords_english = stopwords.words('english')\n",
    "    stopwords_english.extend(['rt', 'fav', \"'\"])\n",
    "    tweets_clean = []\n",
    "    for word in tweet_tokenz:\n",
    "        if (word not in stopwords_english and word not in string.punctuation):\n",
    "            tweets_clean.append(word)\n",
    "    return tweets_clean\n",
    "def stemmingTweet(tweet):\n",
    "    stemmer = PorterStemmer()\n",
    "    tweets_stem = []\n",
    "    for word in tweet:\n",
    "        stem_word = stemmer.stem(word)\n",
    "        tweets_stem.append(stem_word)\n",
    "    return tweets_stem\n",
    "def preprocess(tweet):\n",
    "    tweet.lower()\n",
    "    p.set_options(p.OPT.NUMBER, p.OPT.SMILEY)\n",
    "    tweet = p.clean(tweet)\n",
    "    return stemmingTweet(removeStopWords(tokenize(tweet)))"
   ]
  },
  {
   "cell_type": "code",
   "execution_count": 19,
   "metadata": {},
   "outputs": [
    {
     "name": "stdout",
     "output_type": "stream",
     "text": [
      "Dude is like 5’8 140 pounds his dick was long and strong(always the little dudes carrying the 🍆) 🤪🙃\n",
      "['dude', 'like', '’', '8', 'pound', 'dick', 'long', 'strong', 'alway', 'littl', 'dude', 'carri', '🍆', '🤪', '🙃']\n"
     ]
    }
   ],
   "source": [
    "# sample of preprocessing\n",
    "tweet = tweets_x[0]\n",
    "print(tweet)\n",
    "newtweet = preprocess(tweet)\n",
    "print(newtweet)"
   ]
  },
  {
   "cell_type": "code",
   "execution_count": 20,
   "metadata": {},
   "outputs": [
    {
     "name": "stdout",
     "output_type": "stream",
     "text": [
      "['dude', 'like', '’', '8', 'pound', 'dick', 'long', 'strong', 'alway', 'littl', 'dude', 'carri', '🍆', '🤪', '🙃']\n",
      "['cant', 'breatiuhw', '💀', '💀', '💀']\n",
      "['scare', 'bird', '🤧']\n",
      "['’', '😂', '😂', '😂']\n",
      "['heart', 'full', 'rn', '💖', '💖']\n"
     ]
    }
   ],
   "source": [
    "# preprocess entire matrix\n",
    "for i in range(len(tweets_x)):\n",
    "    processedTweet = preprocess(tweets_x[i])\n",
    "    tweets_x[i] = processedTweet\n",
    "for i in range(5):\n",
    "    print(tweets_x[i])"
   ]
  },
  {
   "cell_type": "markdown",
   "metadata": {},
   "source": [
    "## Splitting Data into Training and Test Set"
   ]
  },
  {
   "cell_type": "code",
   "execution_count": 21,
   "metadata": {},
   "outputs": [],
   "source": [
    "# splitting train/test up 70/30\n",
    "div = round(len(tweets_x)*.7)\n",
    "train_x = tweets_x[:div]\n",
    "test_x = tweets_x[div:]\n",
    "train_y = tweets_y[:div]\n",
    "test_y = tweets_y[div:]\n",
    "assert(len(tweets_x) == len(train_x)+len(test_y))\n",
    "assert(len(tweets_x) == len(train_y)+len(test_y))\n",
    "# the training and testing sets should be numpy arrays\n",
    "train_x = np.array(train_x)\n",
    "train_y = np.array(train_y)\n",
    "test_x = np.array(test_x)\n",
    "test_y = np.array(test_y)"
   ]
  },
  {
   "cell_type": "markdown",
   "metadata": {},
   "source": [
    "## Frequency Dictionary"
   ]
  },
  {
   "cell_type": "code",
   "execution_count": 22,
   "metadata": {},
   "outputs": [],
   "source": [
    "# now we will build a dictionary of word frequencies\n",
    "# train_x and train_y is what we will build our word frequency dictionary from\n",
    "# we will need to make our y into a list\n",
    "def word_freqs(trainx, trainy):\n",
    "    train_y_list = np.squeeze(trainy).tolist()\n",
    "    frequencyDict = {}\n",
    "    for y, tweetx in zip(train_y_list, trainx):\n",
    "        for word in tweetx:\n",
    "            labeledTweet = (word, y)\n",
    "            # if word is in dict, add 1 to count, otherwise add to dict         \n",
    "            if labeledTweet in frequencyDict:\n",
    "                frequencyDict[labeledTweet]+=1\n",
    "            else:\n",
    "                frequencyDict[labeledTweet]=1\n",
    "    return frequencyDict"
   ]
  },
  {
   "cell_type": "code",
   "execution_count": 24,
   "metadata": {},
   "outputs": [
    {
     "name": "stdout",
     "output_type": "stream",
     "text": [
      "6752\n"
     ]
    }
   ],
   "source": [
    "# build entire frequency dictionary\n",
    "freqDict = word_freqs(train_x, train_y)\n",
    "print(len(freqDict))"
   ]
  },
  {
   "cell_type": "code",
   "execution_count": 38,
   "metadata": {},
   "outputs": [
    {
     "name": "stdout",
     "output_type": "stream",
     "text": [
      "dude 1 18\n",
      "like 1 178\n",
      "’ 1 712\n",
      "8 1 1\n",
      "pound 1 3\n",
      "dick 1 8\n",
      "long 1 11\n",
      "strong 1 7\n",
      "alway 1 45\n",
      "littl 1 19\n",
      "carri 1 7\n",
      "🍆 1 3\n",
      "🤪 1 36\n",
      "🙃 1 5\n",
      "cant 0 2\n",
      "breatiuhw 0 1\n",
      "💀 0 71\n",
      "scare 0 5\n",
      "bird 0 3\n",
      "🤧 0 26\n"
     ]
    }
   ],
   "source": [
    "# sample\n",
    "stop = 0\n",
    "for (key, value) in freqDict:\n",
    "    if stop == 20:\n",
    "        break\n",
    "    else:\n",
    "        print(key, value, freqDict[key, value])\n",
    "        stop += 1"
   ]
  },
  {
   "cell_type": "markdown",
   "metadata": {},
   "source": [
    "## Analysis of Frequency Dictionary"
   ]
  },
  {
   "cell_type": "code",
   "execution_count": 39,
   "metadata": {},
   "outputs": [
    {
     "name": "stdout",
     "output_type": "stream",
     "text": [
      "[['😋', 21, 0], ['💛', 56, 0], ['😉', 89, 0], ['✌️', 0, 0], ['💕', 212, 0], ['👍', 46, 0], ['😎', 58, 0], ['😜', 31, 0], ['😝', 24, 0], ['😛', 20, 0], ['💖', 127, 0], ['😼', 4, 0], ['😏', 30, 0], ['😺', 0, 0], ['😃', 14, 0], ['😸', 5, 0], ['😄', 24, 0], ['🙂', 15, 0], ['🤣', 198, 0], ['💞', 67, 0], ['😌', 26, 0], ['🙌', 150, 0], ['💜', 104, 0], ['🙏', 242, 0], ['👌', 72, 0], ['🤓', 3, 0], ['🤑', 11, 0], ['👄', 6, 0], ['😆', 64, 0], ['😙', 8, 0], ['😘', 96, 0], ['😚', 14, 0], ['😽', 4, 0], ['😗', 9, 0], ['💋', 47, 0], ['😹', 5, 0], ['😂', 1679, 0], ['😇', 22, 0], ['🤗', 86, 0], ['💗', 112, 0], ['💓', 48, 0], ['😻', 28, 0], ['😍', 475, 0], ['❤️', 0, 0], ['🤝', 2, 0], ['😀', 32, 0], ['😁', 54, 0], ['💚', 59, 0], ['💝', 12, 0], ['🤤', 45, 0], ['💘', 36, 0], ['🤞', 23, 0], ['🤠', 15, 0], ['👏', 170, 0], ['😊', 117, 0], ['💙', 90, 0], ['🖤', 47, 0], ['💯', 138, 0], ['🤪', 36, 0], ['🤐', 1, 7], ['😟', 1, 5], ['😩', 89, 126], ['🙃', 5, 48], ['😒', 4, 25], ['😤', 5, 30], ['😫', 12, 18], ['👎', 0, 10], ['🤔', 12, 95], ['😅', 9, 34], ['😓', 0, 3], ['😭', 292, 426], ['🤧', 6, 26], ['😈', 7, 30], ['🙁', 0, 10], ['😪', 3, 16], ['😴', 3, 20], ['☠️', 0, 0], ['💀', 52, 71], ['💩', 0, 20], ['🙀', 0, 8], ['😱', 4, 35], ['🙄', 16, 86], ['😡', 0, 13], ['👊', 12, 18], ['😾', 0, 1], ['😣', 4, 10], ['😔', 8, 39], ['😮', 1, 61], ['😶', 1, 6], ['😐', 1, 16], ['🤢', 3, 7], ['😷', 1, 2], ['🤥', 0, 4], ['👿', 0, 2], ['😯', 0, 4], ['😬', 0, 37], ['👻', 1, 9], ['🖕', 3, 10], ['☹️', 0, 0], ['😦', 0, 1], ['😳', 10, 29], ['😨', 0, 0], ['🤒', 0, 6], ['🤕', 0, 2], ['😑', 0, 13], ['😵', 1, 17], ['😥', 0, 13], ['😞', 7, 17], ['😿', 0, 1], ['😢', 7, 35], ['😕', 4, 20], ['😖', 0, 1], ['😰', 0, 9]]\n"
     ]
    }
   ],
   "source": [
    "# Analyze how many times our emojis appear in our frequency dictionary\n",
    "keys = positiveEmojis + negativeEmojis\n",
    "data = []\n",
    "for emoji in keys:\n",
    "    positive = 0\n",
    "    negative = 0\n",
    "    if (emoji, 1) in freqDict:\n",
    "        positive = freqDict[(emoji, 1)]\n",
    "    if (emoji, 0) in freqDict:\n",
    "        negative = freqDict[(emoji, 0)]\n",
    "    data.append([emoji, positive, negative])\n",
    "print(data)"
   ]
  },
  {
   "cell_type": "code",
   "execution_count": 56,
   "metadata": {},
   "outputs": [
    {
     "data": {
      "image/png": "[encoded data removed]",
      "text/plain": [
       "<Figure size 1080x1080 with 1 Axes>"
      ]
     },
     "metadata": {
      "needs_background": "light"
     },
     "output_type": "display_data"
    }
   ],
   "source": [
    "%matplotlib inline\n",
    "from matplotlib.font_manager import FontProperties\n",
    "fig, ax = plt.subplots(figsize = (15, 15))\n",
    "# convert positive raw counts to logarithmic scale. we add 1 to avoid log(0)\n",
    "x = np.log([x[1] + 1 for x in data])  \n",
    "# do the same for the negative counts\n",
    "y = np.log([x[2] + 1 for x in data]) \n",
    "# Plot a dot for each pair of words\n",
    "ax.scatter(x, y)  \n",
    "# assign axis labels\n",
    "plt.xlabel(\"Log Positive count\")\n",
    "plt.ylabel(\"Log Negative count\")\n",
    "prop = FontProperties(fname=r\"C:\\Users\\akarafas\\Downloads\\NotoColorEmoji-unhinted\\NotoColorEmoji.ttf\")\n",
    "plt.rcParams['font.family'] = prop.get_family()\n",
    "# Add the word as the label at the same position as you added the points just before\n",
    "for i in range(0, len(data)):\n",
    "    ax.annotate(data[i][0], (x[i], y[i]), fontsize=14)\n",
    "ax.plot([0, 9], [0, 9], color = 'lightcoral') # Plot the red line that divides the 2 areas.\n",
    "plt.show()"
   ]
  },
  {
   "cell_type": "markdown",
   "metadata": {},
   "source": [
    "# Logistic Regression"
   ]
  },
  {
   "cell_type": "markdown",
   "metadata": {},
   "source": [
    "## Define sigmoid and gradient_descent"
   ]
  },
  {
   "cell_type": "code",
   "execution_count": 57,
   "metadata": {},
   "outputs": [],
   "source": [
    "def sigmoid(x):\n",
    "    return 1/(1+np.exp(-x))"
   ]
  },
  {
   "cell_type": "code",
   "execution_count": 59,
   "metadata": {},
   "outputs": [
    {
     "data": {
      "text/plain": [
       "Text(0.5, 1.0, 'Sigmoid')"
      ]
     },
     "execution_count": 59,
     "metadata": {},
     "output_type": "execute_result"
    },
    {
     "data": {
      "image/png": "[encoded data removed]",
      "text/plain": [
       "<Figure size 432x288 with 1 Axes>"
      ]
     },
     "metadata": {
      "needs_background": "light"
     },
     "output_type": "display_data"
    }
   ],
   "source": [
    "# Sigmoid plot\n",
    "x = np.arange(-10,10,1)\n",
    "plt.plot(sigmoid(x))\n",
    "plt.xlabel('x')\n",
    "plt.title('Sigmoid')"
   ]
  },
  {
   "cell_type": "code",
   "execution_count": 60,
   "metadata": {},
   "outputs": [],
   "source": [
    "def gradientDescent(x, y, theta, alpha, num_iters):\n",
    "    m = x.shape[0]\n",
    "    yt = np.transpose(1-y)\n",
    "    ytnormal = np.transpose(y)\n",
    "    for i in range(0, num_iters):\n",
    "        z = np.dot(x,theta)\n",
    "        h = sigmoid(z)\n",
    "        # calculate the loss function\n",
    "        J = -1./m * (np.dot(ytnormal, np.log(h)) + np.dot(yt,np.log(1-h)))   \n",
    "        # update the weights theta\n",
    "        theta = theta - (alpha/m) * np.dot(np.transpose(x),(h-y))\n",
    "    J = float(J[0])\n",
    "    thetaArr = [round(theta[0][0], 8), round(theta[1][0], 8), round(theta[2][0], 8)]\n",
    "    return J, thetaArr"
   ]
  },
  {
   "cell_type": "code",
   "execution_count": 61,
   "metadata": {},
   "outputs": [
    {
     "name": "stdout",
     "output_type": "stream",
     "text": [
      "1\n",
      "[[0.69305407]]\n",
      "500\n",
      "[[0.67433793]]\n",
      "0.6709497038162118\n",
      "[4.1e-07, 0.00035658, 7.309e-05]\n"
     ]
    }
   ],
   "source": [
    "# Gradient Descent Check\n",
    "# Construct a synthetic test case using numpy PRNG functions\n",
    "np.random.seed(1)\n",
    "# X input is 10 x 3 with ones for the bias terms\n",
    "tmp_X = np.append(np.ones((10, 1)), np.random.rand(10, 2) * 2000, axis=1)\n",
    "# Y Labels are 10 x 1\n",
    "tmp_Y = (np.random.rand(10, 1) > 0.35).astype(float)\n",
    "# Apply gradient descent\n",
    "tmp_J, tmp_theta = gradientDescent(tmp_X, tmp_Y, np.zeros((3, 1)), 1e-8, 700)\n",
    "print(tmp_J)\n",
    "print(tmp_theta)"
   ]
  },
  {
   "cell_type": "markdown",
   "metadata": {},
   "source": [
    "## Feature Extraction"
   ]
  },
  {
   "cell_type": "code",
   "execution_count": 62,
   "metadata": {},
   "outputs": [],
   "source": [
    "def extract_features(tweet, freqs):\n",
    "    word_l = (tweet)\n",
    "    # 3 elements in the form of a 1 x 3 vector\n",
    "    x = np.zeros((1, 3)) \n",
    "    #bias term is set to 1\n",
    "    x[0,0] = 1 \n",
    "    # loop through each word in the list of words\n",
    "    for word in word_l:\n",
    "        # increment the word count for the positive label 1\n",
    "        x[0,1] += freqs.get((word, 1.0), 0)\n",
    "        # increment the word count for the negative label 0\n",
    "        x[0,2] += freqs.get((word, 0.0), 0)\n",
    "    assert(x.shape == (1, 3))\n",
    "    return x"
   ]
  },
  {
   "cell_type": "code",
   "execution_count": 63,
   "metadata": {},
   "outputs": [
    {
     "name": "stdout",
     "output_type": "stream",
     "text": [
      "[[1.000e+00 1.071e+03 5.840e+02]]\n",
      "[[  1. 325.  78.]]\n"
     ]
    }
   ],
   "source": [
    "# test on training data\n",
    "tmp1 = extract_features(train_x[0], freqDict)\n",
    "print(tmp1)\n",
    "# test on words not in freq dict\n",
    "tmp2 = extract_features('comp562isfunhello comp562projectisabtemojis emojisdatasetfromkaggle', freqDict)\n",
    "print(tmp2)"
   ]
  },
  {
   "cell_type": "markdown",
   "metadata": {},
   "source": [
    "## Train the model"
   ]
  },
  {
   "cell_type": "code",
   "execution_count": null,
   "metadata": {},
   "outputs": [],
   "source": [
    "# collect the features 'x' and stack them into a matrix 'X'\n",
    "X = np.zeros((len(train_x), 3))\n",
    "for i in range(len(train_x)):\n",
    "    X[i, :]= extract_features(train_x[i], freqDict)\n",
    "# training labels corresponding to X\n",
    "Y = train_y\n",
    "# Apply gradient descent\n",
    "J, theta = gradientDescent(X, Y, np.zeros((3, 1)), 1e-9, 1500)\n",
    "print(J)\n",
    "print(theta)"
   ]
  },
  {
   "cell_type": "markdown",
   "metadata": {},
   "source": [
    "## Test Logistic Regression"
   ]
  },
  {
   "cell_type": "code",
   "execution_count": null,
   "metadata": {},
   "outputs": [],
   "source": [
    "def predict_tweet(tweet, freqs, theta):    \n",
    "    # extract the features of the tweet and store it into x\n",
    "    x = extract_features(tweet,freqs)    \n",
    "    # make the prediction using x and theta\n",
    "    y_pred = sigmoid(np.dot(x,theta))    \n",
    "    return y_pred"
   ]
  },
  {
   "cell_type": "code",
   "execution_count": null,
   "metadata": {},
   "outputs": [],
   "source": [
    "for tweet in ['I am happy', 'I am bad', 'this movie should have been great.', 'great', 'great great', 'great great great', 'great great great great']:\n",
    "    print(tweet)\n",
    "    print(predict_tweet(tweet, freqs, theta))"
   ]
  },
  {
   "cell_type": "code",
   "execution_count": null,
   "metadata": {},
   "outputs": [],
   "source": [
    "bad = 'I CANT BREATIUHW 💀💀💀💀💀💀💀💀💀💀💀💀💀💀💀'\n",
    "my_tweet = 'I am learning 😂😂😂😂😂😂😂😂😂😂😂😂'\n",
    "print(predict_tweet(bad, freqs, theta))\n",
    "print(predict_tweet(my_tweet, freqs, theta))"
   ]
  },
  {
   "cell_type": "code",
   "execution_count": null,
   "metadata": {},
   "outputs": [],
   "source": [
    "def test_logistic_regression(test_x, test_y, freqs, theta):\n",
    "    y_hat = []\n",
    "    for tweet in test_x:\n",
    "        y_pred = predict_tweet(tweet, freqs, theta)\n",
    "        if y_pred > 0.5:\n",
    "            y_hat.append(1)\n",
    "        else:\n",
    "            y_hat.append(0)\n",
    "    accuracy = (y_hat==np.squeeze(test_y)).sum()/len(test_x)\n",
    "    return accuracy"
   ]
  },
  {
   "cell_type": "code",
   "execution_count": null,
   "metadata": {},
   "outputs": [],
   "source": [
    "tmp_accuracy = test_logistic_regression(test_x, test_y, freqDict, theta)\n",
    "print(f\"Logistic regression model's accuracy = {tmp_accuracy:.4f}\")"
   ]
  },
  {
   "cell_type": "markdown",
   "metadata": {},
   "source": [
    "## Error Analysis "
   ]
  },
  {
   "cell_type": "code",
   "execution_count": null,
   "metadata": {},
   "outputs": [],
   "source": [
    "# Some error analysis\n",
    "print('Label Predicted Tweet')\n",
    "for x,y in zip(test_x,test_y):\n",
    "    y_hat = predict_tweet(x, freqDict, theta)\n",
    "\n",
    "    if np.abs(y - (y_hat > 0.5)) > 0:\n",
    "        print('THE TWEET IS:', x)\n",
    "        print('THE PROCESSED TWEET IS:',(x))\n",
    "        print('%d\\t%0.8f\\t%s' % (y, y_hat, ' '.join((x)).encode('ascii', 'ignore')))"
   ]
  },
  {
   "cell_type": "code",
   "execution_count": null,
   "metadata": {},
   "outputs": [],
   "source": [
    "my_tweet = 'i hate this evil girl she is the worst'\n",
    "print((my_tweet))\n",
    "y_hat = predict_tweet(my_tweet, freqDict, theta)\n",
    "print(y_hat)\n",
    "if y_hat > 0.5:\n",
    "    print('Positive sentiment')\n",
    "else: \n",
    "    print('Negative sentiment')"
   ]
  },
  {
   "cell_type": "markdown",
   "metadata": {},
   "source": [
    "# Naive Bayes"
   ]
  },
  {
   "cell_type": "code",
   "execution_count": null,
   "metadata": {},
   "outputs": [],
   "source": [
    "labels = 'Positive', 'Negative'\n",
    "# go through labeledTweetMatrix and tally positive sentiment, neg just do len(total) - pos\n",
    "count = 0\n",
    "negativeCount = 0\n",
    "for tweet in labeledTweetMatrix:\n",
    "    if tweet[1] == 1:\n",
    "        count += 1\n",
    "    if tweet[1] == 0:\n",
    "        negativeCount += 1\n",
    "sizes = [count, negativeCount]"
   ]
  },
  {
   "cell_type": "code",
   "execution_count": null,
   "metadata": {},
   "outputs": [],
   "source": [
    "# get number of unique words\n",
    "uniqueWords = set([pair[0] for pair in freqDict.keys()])\n",
    "numPositive = 0\n",
    "numNegative = 0\n",
    "uniquePositive = 0\n",
    "uniqueNegative = 0\n",
    "for pair in freqDict.keys():\n",
    "    #if this word is positive\n",
    "    if pair[1] > 0:\n",
    "        numPositive += freqDict[pair]\n",
    "        uniquePositive += 1\n",
    "    #if this word is negative\n",
    "    else:\n",
    "        numNegative += freqDict[pair]\n",
    "        uniqueNegative += 1\n",
    "print(numPositive)\n",
    "print(numNegative)\n",
    "print(uniquePositive)\n",
    "print(uniqueNegative)\n",
    "#get total numbers of neg/positive in training data\n",
    "totalTraining = len(train_y)\n",
    "trainPositive = 0\n",
    "trainNegative = 0\n",
    "for item in train_y:\n",
    "    if item > 0:\n",
    "        trainPositive += 1\n",
    "    else:\n",
    "        trainNegative += 1    \n",
    "probPositive = trainPositive/totalTraining\n",
    "probNegative = 1 - probPositive\n",
    "logPrior = np.log(probPositive) - np.log(probNegative)\n",
    "#iterate through all the unique words and figure out log likelihoods\n",
    "#look at lookup function\n",
    "logWords = {}\n",
    "for word in uniqueWords:\n",
    "    pair = (word, 1)\n",
    "    n = 0\n",
    "    if (pair in freqDict):\n",
    "        n = freqDict[pair]\n",
    "    logPos = (n + 1.)/(numPositive + len(uniqueWords))\n",
    "    pair = (word, 0)\n",
    "    n = 0\n",
    "    if (pair in freqDict):\n",
    "        n = freqDict[pair]\n",
    "    logNeg = (n + 1.)/(numNegative + len(uniqueWords))\n",
    "    logWords[word] = np.log(logPos/logNeg)"
   ]
  },
  {
   "cell_type": "code",
   "execution_count": null,
   "metadata": {},
   "outputs": [],
   "source": [
    "# Analyze how many times our emojis appear in our frequency dictionary\n",
    "keys = positiveEmojis + negativeEmojis\n",
    "data = []\n",
    "for emoji in keys:\n",
    "    positive = 0\n",
    "    negative = 0\n",
    "    if (emoji, 1) in freqDict:\n",
    "        positive = freqDict[(emoji, 1)]\n",
    "    if (emoji, 0) in freqDict:\n",
    "        negative = freqDict[(emoji, 0)]\n",
    "    data.append([emoji, positive, negative])\n",
    "print(data)"
   ]
  },
  {
   "cell_type": "code",
   "execution_count": null,
   "metadata": {},
   "outputs": [],
   "source": [
    "def naiveBayes(tweet):\n",
    "    prob = 0\n",
    "    for word in tweet:\n",
    "        if word in logWords:\n",
    "            prob += logWords[word]\n",
    "    prob += logPrior\n",
    "    return prob\n",
    "newTweet = 'I am happy and glad and smiling and I love my life ❤️'\n",
    "prob = naiveBayes(newTweet)\n",
    "print('Output for positive example: ', prob)\n",
    "newTweet1 = 'I am sad and I hate my life and everything sucks 🤢'\n",
    "prob = naiveBayes(newTweet1)\n",
    "print('Output for negative example: ', prob)"
   ]
  },
  {
   "cell_type": "code",
   "execution_count": null,
   "metadata": {},
   "outputs": [],
   "source": [
    "predictions = []\n",
    "def testAccuracyNaive(test_x, test_y):\n",
    "    for tweet in test_x:\n",
    "        #print(tweet1)\n",
    "        prob = naiveBayes(tweet)\n",
    "        if (prob > 0):\n",
    "            predictions.append(1)\n",
    "        else:\n",
    "            predictions.append(0)\n",
    "    error = np.mean(np.absolute(test_y - predictions))\n",
    "    return 1-error\n",
    "print('Accuracy: ', testAccuracyNaive(test_x, test_y))     "
   ]
  }
 ],
 "metadata": {
  "kernelspec": {
   "display_name": "Python 3",
   "language": "python",
   "name": "python3"
  },
  "language_info": {
   "codemirror_mode": {
    "name": "ipython",
    "version": 3
   },
   "file_extension": ".py",
   "mimetype": "text/x-python",
   "name": "python",
   "nbconvert_exporter": "python",
   "pygments_lexer": "ipython3",
   "version": "3.7.4"
  }
 },
 "nbformat": 4,
 "nbformat_minor": 2
}
